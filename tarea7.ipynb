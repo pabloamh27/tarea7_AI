{
 "cells": [
  {
   "attachments": {},
   "cell_type": "markdown",
   "metadata": {
    "colab_type": "text",
    "id": "ehUxc7AtDfU5"
   },
   "source": [
    "### ITCR - Escuela de Computación\n",
    "### Curso IC-6200 - Inteligencia Artificial\n",
    "### Aprendizaje supervisado\n",
    "\n",
    "### Redes de memoria de corto y largo plazo con PyTorch \n",
    "### (Long-Short Term Memory Networks-LSTM)\n",
    "\n",
    "**Profesora: María Auxiliadora Mora**\n",
    "\n",
    "### Tarea corta #7\n",
    "\n",
    "### Estudiantes:\n",
    "**1. Pablo Alberto Muñoz Hidalgo**\n",
    "\n",
    "**2. Luis Andrés Rojas Murillo**\n"
   ]
  },
  {
   "attachments": {},
   "cell_type": "markdown",
   "metadata": {
    "colab_type": "text",
    "id": "yyr84u8ab1kw"
   },
   "source": [
    "## Introducción\n",
    "\n",
    "La clasificación de textos y el reconocimiento de entidades nombradas (Named Entity Recognition o NER por sus siglas en inglés) son técnicas fundamentales que constituyen el primer paso en muchas tareas de Procesamiento de lenguaje natural (NLP). NER, es un área de investigación relacionada a la extracción de información, que permite localizar y clasificar nombres de entidades que se encuentran en texto libre, en categorías comunmente organizaciones, lugares, tiempo, personas, entre otros. Ejemplo:\n",
    "\n",
    "- El fundador de [Microsoft Corporation] (organización), [Bill Gates] (persona), comentó que se abrirán 1000 puestos de trabajo en la [Región Chorotega] (lugar) a partir del año 2022 (fecha).  \n",
    "\n",
    "La clasificación de textos permite categorizar el contenido asociando este a un conjunto de etiquetas predefinidas o clases. Su uso más popular es el análisis de sentimientos. Ejemplo:\n",
    "\n",
    "- En mi opinión, la película fue muy buena porque pudo dar a conocer a los espectadores cómo puede afectar una situación traumática a la mente humana. (Clase = 5 o excelente). \n",
    "\n",
    "Las redes neuronales recurrentes o RNN (Rumelhart et al., 1986, como se citó en LeCun et al., 2015) son una familia de redes neuronales para el procesamiento de secuencias de datos, las cuales en un tiempo t, reciben el estado anterior, es decir, su salida en el tiempo t podría usarse como insumo del procesamiento de la siguiente entrada, de modo que la información pueda propagarse a medida que la red pasa por la secuencia de entrada. Las redes Long Short-Term Memory (LSTM) son un tipo de red neuronal recurrente capaz de aprender dependencias a largo plazo.\n",
    "\n",
    "El siguiente ejemplo implementa NER con una LSTM para etiquetar el rol que juegan las palabras en las oraciones. \n",
    "\n",
    "\n",
    "## Ejemplo\n",
    "\n",
    "El sistema implementado en el código adjunto soluciona el problema de estimar el rol de una palabra en una frase, por ejempo roles como determinante (DET), nombre (NN) y verbo (V). \n",
    "Ejemplo para la frase:\n",
    "\n",
    "- \"El perro come manzana\" la salida deberá ser: [\"DET\", \"NN\", \"V\", \"NN\"]). \n",
    "\n",
    "Este proceso se conoce en el procesamiento de lenguaje natural como \"part of speech tagging (POS)\".\n",
    "\n",
    "Este es un ejemplo simple con datos introducidos en el código basado en [1].\n",
    "\n",
    "Se realizarán los siguientes pasos\n",
    "\n",
    "   * Definición de los ejemplos (codificados) \n",
    "   * Preprocesamiento de las palabras a clasificar\n",
    "   * Definición del modelo\n",
    "   * Instanciación del modelo, definición de la función de pérdida y del optimizador  \n",
    "   * Entrenamiento de la red\n",
    "   * Pruebas del modelo resultante con unos cuantos ejemplos.\n"
   ]
  },
  {
   "cell_type": "code",
   "execution_count": 1,
   "metadata": {
    "colab": {
     "base_uri": "https://localhost:8080/",
     "height": 34
    },
    "colab_type": "code",
    "id": "gmqx6kMSDfU9",
    "outputId": "c6a51d34-4aeb-4cd4-ed22-b92d297ea46e"
   },
   "outputs": [
    {
     "data": {
      "text/plain": [
       "<torch._C.Generator at 0x24200299cb0>"
      ]
     },
     "execution_count": 1,
     "metadata": {},
     "output_type": "execute_result"
    }
   ],
   "source": [
    "# Bibliotecas requeridas\n",
    "\n",
    "import torch\n",
    "import torch.nn as nn\n",
    "import torch.nn.functional as F\n",
    "import torch.optim as optim\n",
    "import csv\n",
    "import random\n",
    "\n",
    "torch.manual_seed(1)"
   ]
  },
  {
   "cell_type": "code",
   "execution_count": 2,
   "metadata": {
    "colab": {},
    "colab_type": "code",
    "id": "VsFmju8xDfVQ"
   },
   "outputs": [],
   "source": [
    "# Funciones utilitarias\n",
    "\n",
    "def max_values(x):\n",
    "    \"\"\"\n",
    "    Retorna el valor máximo y en índice o la posición del valor en un vector x.\n",
    "    Parámetros: \n",
    "        x: vector con los datos. \n",
    "    Salida: \n",
    "        out: valor \n",
    "        inds: índice\n",
    "    \"\"\"\n",
    "    out, inds = torch.max(x,dim=1)   \n",
    "    return out, inds\n",
    "    "
   ]
  },
  {
   "cell_type": "code",
   "execution_count": 6,
   "metadata": {},
   "outputs": [
    {
     "name": "stdout",
     "output_type": "stream",
     "text": [
      "Training data:\n",
      "[[['los', 'estudiantes', 'estudian', 'en', 'la', 'biblioteca', 'de', 'la', 'universidad'], ['DET', 'NN', 'V', 'PREP', 'DET', 'NN', 'PREP', 'DET', 'NN', 'PREP', 'DET', 'NN']], [['la', 'casa', 'estÃ¡', 'en', 'la', 'colina'], ['DET', 'NN', 'V', 'PREP', 'DET', 'NN']], [['juan', 'y', 'marÃ\\xada', 'bailan', 'en', 'la', 'fiesta'], ['NN', 'CONJ', 'NN', 'V', 'PREP', 'DET', 'NN']], [['ana', 'toca', 'el', 'piano', 'en', 'la', 'sala'], ['NN', 'V', 'DET', 'NN', 'PREP', 'DET', 'NN']], [['el', 'niÃ±o', 'juega', 'con', 'su', 'pelota', 'en', 'el', 'parque'], ['DET', 'NN', 'V', 'PREP', 'DET', 'NN', 'PRE']], [['marÃ\\xada', 'y', 'pedro', 'toman', 'cafÃ©', 'en', 'el', 'cafÃ©', 'de', 'la', 'esquina'], ['NN', 'CONJ', 'NN', 'V', 'DET', 'NN', 'PREP', 'DET', 'NN', 'PREP', 'DET', 'NN']], [['marcos', 'lee', 'un', 'periÃ³dico', 'en', 'la', 'cafeterÃ\\xada'], ['NN', 'V', 'DET', 'NN', 'PREP', 'DET', 'NN']], [['pablo', 'canta', 'en', 'la', 'ducha'], ['NN', 'V', 'PREP', 'DET', 'NN']], [['el', 'sol', 'brilla', 'en', 'el', 'cielo'], ['DET', 'NN', 'V', 'PREP', 'DET', 'NN']], [['la', 'chica', 'corre', 'por', 'el', 'parque'], ['DET', 'NN', 'V', 'PREP', 'DET', 'NN']], [['el', 'profesor', 'enseÃ±a', 'en', 'la', 'universidad'], ['DET', 'NN', 'V', 'PREP', 'DET', 'NN']], [['luis', 'juega', 'al', 'fÃºtbol', 'en', 'el', 'parque'], ['NN', 'V', 'PREP', 'DET', 'NN', 'PREP', 'DET', 'NN']], [['marÃ\\xada', 'y', 'pedro', 'toman', 'cafÃ©', 'en', 'el', 'cafÃ©', 'de', 'la', 'esquina'], ['NN', 'CONJ', 'NN', 'V', 'DET', 'NN', 'PREP', 'DET', 'NN', 'PREP', 'DET', 'NN']], [['el', 'perro', 'salta', 'sobre', 'la', 'valla'], ['DET', 'NN', 'V', 'PREP', 'DET', 'NN']], [['la', 'pelota', 'rueda', 'por', 'el', 'jardÃ\\xadn'], ['DET', 'NN', 'V', 'PREP', 'DET', 'NN']], [['el', 'perro', 'corre', 'alegremente'], ['DET', 'NN', 'V', 'ADV']], [['marcos', 'lee', 'un', 'periÃ³dico', 'en', 'la', 'cafeterÃ\\xada'], ['NN', 'V', 'DET', 'NN', 'PREP', 'DET', 'NN']], [['los', 'pÃ¡jaros', 'cantan', 'en', 'el', 'Ã¡rbol'], ['DET', 'NN', 'V', 'PREP', 'DET', 'NN']], [['los', 'estudiantes', 'estudian', 'en', 'la', 'biblioteca', 'de', 'la', 'universidad'], ['DET', 'NN', 'V', 'PREP', 'DET', 'NN', 'PREP', 'DET', 'NN', 'PREP', 'DET', 'NN']], [['los', 'pÃ¡jaros', 'cantan', 'en', 'el', 'Ã¡rbol'], ['DET', 'NN', 'V', 'PREP', 'DET', 'NN']], [['el', 'hombre', 'camina', 'por', 'la', 'calle', 'con', 'su', 'perro'], ['DET', 'NN', 'V', 'PREP', 'DET', 'NN', 'PREP', 'DET', 'NN']], [['juan', 'y', 'carlos', 'juegan', 'al', 'ajedrez', 'en', 'el', 'parque'], ['NN', 'CONJ', 'NN', 'V', 'PREP', 'DET', 'NN', 'PREP', 'DET', 'NN']], [['juan', 'lee', 'un', 'libro', 'en', 'el', 'parque'], ['NN', 'V', 'DET', 'NN', 'PREP', 'DET', 'NN']], [['el', 'perro', 'ladra', 'al', 'gato', 'en', 'la', 'calle'], ['DET', 'NN', 'V', 'PREP', 'DET', 'NN', 'PREP', 'DET', 'NN']], [['juan', 'lee', 'un', 'libro', 'en', 'el', 'parque'], ['NN', 'V', 'DET', 'NN', 'PREP', 'DET', 'NN']], [['ana', 'toca', 'el', 'piano', 'en', 'la', 'sala'], ['NN', 'V', 'DET', 'NN', 'PREP', 'DET', 'NN']], [['la', 'casa', 'blanca', 'estÃ¡', 'en', 'la', 'esquina'], ['DET', 'NN', 'ADJ', 'V', 'PREP', 'DET', 'NN']], [['los', 'niÃ±os', 'juegan', 'en', 'el', 'jardÃ\\xadn'], ['DET', 'NN', 'V', 'PREP', 'DET', 'NN']], [['el', 'coche', 'rojo', 'estÃ¡', 'en', 'la', 'calle'], ['DET', 'NN', 'ADJ', 'V', 'PREP', 'DET', 'NN']], [['la', 'casa', 'estÃ¡', 'en', 'la', 'colina'], ['DET', 'NN', 'V', 'PREP', 'DET', 'NN']], [['marÃ\\xada', 'canta', 'en', 'la', 'ducha'], ['NN', 'V', 'PREP', 'DET', 'NN']], [['el', 'gato', 'corre', 'detrÃ¡s', 'del', 'ratÃ³n'], ['DET', 'NN', 'V', 'PREP', 'DET', 'NN']], [['el', 'profesor', 'enseÃ±a', 'en', 'la', 'universidad'], ['DET', 'NN', 'V', 'PREP', 'DET', 'NN']], [['pedro', 'come', 'una', 'manzana'], ['NN', 'V', 'DET', 'NN']], [['la', 'chica', 'corre', 'por', 'el', 'parque'], ['DET', 'NN', 'V', 'PREP', 'DET', 'NN']], [['el', 'pÃ¡jaro', 'vuela', 'en', 'el', 'cielo', 'azul'], ['DET', 'NN', 'V', 'PREP', 'DET', 'NN', 'ADJ']], [['el', 'gato', 'duerme', 'en', 'la', 'cama'], ['DET', 'NN', 'V', 'PREP', 'DET', 'NN']], [['el', 'cafÃ©', 'estÃ¡', 'caliente', 'y', 'sabe', 'bien'], ['DET', 'NN', 'V', 'ADJ', 'CONJ', 'V']], [['luis', 'juega', 'al', 'fÃºtbol', 'en', 'el', 'parque'], ['NN', 'V', 'PREP', 'DET', 'NN', 'PREP', 'DET', 'NN']], [['el', 'cafÃ©', 'estÃ¡', 'caliente', 'y', 'sabe', 'bien'], ['DET', 'NN', 'V', 'ADJ', 'CONJ', 'V']], [['los', 'padres', 'cuidan', 'al', 'bebÃ©', 'en', 'la', 'casa'], ['DET', 'NN', 'V', 'PREP', 'DET', 'NN', 'PREP', 'DET', 'NN']], [['el', 'coche', 'rojo', 'estÃ¡', 'en', 'la', 'calle'], ['DET', 'NN', 'ADJ', 'V', 'PREP', 'DET', 'NN']], [['la', 'luna', 'brilla', 'en', 'la', 'noche'], ['DET', 'NN', 'V', 'PREP', 'DET', 'NN']]]\n",
      "Test data:\n",
      "[[['el', 'niÃ±o', 'llora', 'en', 'la', 'calle'], ['DET', 'NN', 'V', 'PREP', 'DET', 'NN']], [['el', 'niÃ±o', 'llora', 'en', 'la', 'calle'], ['DET', 'NN', 'V', 'PREP', 'DET', 'NN']], [['el', 'sol', 'brilla', 'en', 'el', 'cielo'], ['DET', 'NN', 'V', 'PREP', 'DET', 'NN']], [['la', 'casa', 'blanca', 'estÃ¡', 'en', 'la', 'esquina'], ['DET', 'NN', 'ADJ', 'V', 'PREP', 'DET', 'NN']], [['juan', 'y', 'carlos', 'juegan', 'al', 'ajedrez', 'en', 'el', 'parque'], ['NN', 'CONJ', 'NN', 'V', 'PREP', 'DET', 'NN', 'PREP', 'DET', 'NN']], [['ana', 'come', 'una', 'manzana'], ['NN', 'V', 'DET', 'NN']], [['el', 'pÃ¡jaro', 'vuela', 'en', 'el', 'cielo', 'azul'], ['DET', 'NN', 'V', 'PREP', 'DET', 'NN', 'ADJ']], [['el', 'perro', 'ladra', 'al', 'gato', 'en', 'la', 'calle'], ['DET', 'NN', 'V', 'PREP', 'DET', 'NN', 'PREP', 'DET', 'NN']], [['el', 'hombre', 'camina', 'por', 'la', 'calle', 'con', 'su', 'perro'], ['DET', 'NN', 'V', 'PREP', 'DET', 'NN', 'PREP', 'DET', 'NN']], [['los', 'padres', 'cuidan', 'al', 'bebÃ©', 'en', 'la', 'casa'], ['DET', 'NN', 'V', 'PREP', 'DET', 'NN', 'PREP', 'DET', 'NN']], [['el', 'perro', 'duerme', 'en', 'la', 'cama'], ['DET', 'NN', 'V', 'PREP', 'DET', 'NN']]]\n"
     ]
    }
   ],
   "source": [
    "# Read the data from the CSV file\n",
    "with open('data.csv', 'r') as file:\n",
    "    reader = csv.reader(file)\n",
    "    data = list(reader)\n",
    "\n",
    "# Divide the data into training and testing sets\n",
    "random.shuffle(data)\n",
    "split = int(0.8 * len(data))\n",
    "training_data = data[:split]\n",
    "test_data = data[split:]\n",
    "\n",
    "# Split the training data into text and labels\n",
    "for i in range(len(training_data)):\n",
    "    splitted_text = training_data[i][0].split()\n",
    "    #put the rest of i in other list\n",
    "    labels = []\n",
    "    for j in range(len(training_data[i])):\n",
    "        if j != 0:\n",
    "            labels.append(training_data[i][j])\n",
    "    training_data[i] = [0,0]\n",
    "    training_data[i][0] = splitted_text\n",
    "    training_data[i][1] = labels\n",
    "\n",
    "# Split the test data into text and labels\n",
    "for i in range(len(test_data)):\n",
    "    splitted_text = test_data[i][0].split()\n",
    "    #put the rest of i in other list\n",
    "    labels = []\n",
    "    for j in range(len(test_data[i])):\n",
    "        if j != 0:\n",
    "            labels.append(test_data[i][j])\n",
    "    test_data[i] = [0,0]\n",
    "    test_data[i][0] = splitted_text\n",
    "    test_data[i][1] = labels\n",
    "\n",
    "# print the data\n",
    "print(\"Training data:\")\n",
    "print(training_data)\n",
    "print(\"Test data:\")\n",
    "print(test_data)\n",
    "\n",
    "\n",
    "\n"
   ]
  },
  {
   "cell_type": "code",
   "execution_count": 4,
   "metadata": {
    "colab": {
     "base_uri": "https://localhost:8080/",
     "height": 54
    },
    "colab_type": "code",
    "id": "IauAgJYkDfVb",
    "outputId": "961f00f0-2609-4da6-d91c-8171b75cd59e"
   },
   "outputs": [
    {
     "name": "stdout",
     "output_type": "stream",
     "text": [
      "Diccionario {}\n"
     ]
    }
   ],
   "source": [
    "# Preparación de los datos \n",
    "def prepare_sequence(seq, to_ix):\n",
    "    \"\"\"\n",
    "    Retorna un tensor con los indices del diccionario para cada palabras en una oración.\n",
    "    Parámetros:\n",
    "       seq: oración\n",
    "       to_ix: diccionario de palabras.\n",
    "    \"\"\"\n",
    "    idxs = [to_ix[w] for w in seq]\n",
    "    return torch.tensor(idxs, dtype=torch.long)\n",
    "\n",
    "\n",
    "\n",
    "\n",
    "\n",
    "# Frases de entrenamiento \n",
    "# El modelo solo va a aprender a identificar DET, NN, V \n",
    "training_data = [\n",
    "    (\"el perro come manzana\".split(), [\"DET\", \"NN\", \"V\", \"NN\"]),\n",
    "    (\"Todos leen ese libro\".split(), [\"NN\", \"V\", \"DET\", \"NN\"]),\n",
    "    (\"el gato corre\".split(), [\"DET\", \"NN\", \"V\"]),\n",
    "    (\"el joven juega\".split(), [\"DET\", \"NN\", \"V\"]),\n",
    "    (\"el gato brinca\".split(), [\"DET\", \"NN\", \"V\"]),\n",
    "    (\"maria come manzana\".split(), [\"NN\", \"V\", \"NN\"]),\n",
    "    (\"gloria hace la tarea\".split(), [\"NN\", \"V\", \"DET\", \"NN\"]),\n",
    "    (\"ricardo hace la sopa\".split(), [\"NN\", \"V\", \"DET\", \"NN\"]),\n",
    "    (\"marta toma cafe\".split(), [\"NN\", \"V\", \"NN\"]),\n",
    "    (\"gloria hace la suma\".split(), [\"NN\", \"V\", \"DET\", \"NN\"]),\n",
    "    (\"ricardo estudia espaniol\".split(), [\"NN\", \"V\", \"NN\"])\n",
    "]\n",
    "\n",
    "# Datos de prueba\n",
    "test_data = [\n",
    "    (\"el perro juega\".split(), [\"DET\", \"NN\", \"V\"]),\n",
    "    (\"marta duerme la siesta\".split(), [\"NN\", \"V\", \"DET\", \"NN\"]),\n",
    "    (\"maria come pastel\".split(), [\"NN\", \"V\", \"NN\"]),\n",
    "    (\"el estudiante realiza el examen\".split(), [\"DET\", \"NN\", \"V\", \"DET\", \"NN\"])\n",
    "   ]\n",
    "\n",
    "# Diccionario las palabras\n",
    "word_to_ix = {}\n",
    "for sent, tags in training_data + test_data:\n",
    "    for word in sent:\n",
    "        if word not in word_to_ix:\n",
    "            word_to_ix[word] = len(word_to_ix)\n",
    "            \n",
    "print(\"Diccionario\", word_to_ix)\n",
    "\n",
    "# Asignar índices a las etiquetas\n",
    "tag_to_ix = {\"DET\": 0, \"NN\": 1, \"V\": 2}\n",
    "\n"
   ]
  },
  {
   "cell_type": "code",
   "execution_count": 5,
   "metadata": {},
   "outputs": [
    {
     "ename": "IndexError",
     "evalue": "list index out of range",
     "output_type": "error",
     "traceback": [
      "\u001b[1;31m---------------------------------------------------------------------------\u001b[0m",
      "\u001b[1;31mIndexError\u001b[0m                                Traceback (most recent call last)",
      "Cell \u001b[1;32mIn[5], line 2\u001b[0m\n\u001b[0;32m      1\u001b[0m \u001b[39m# Ejemplo de procesamiento de una oración\u001b[39;00m\n\u001b[1;32m----> 2\u001b[0m inputs \u001b[39m=\u001b[39m prepare_sequence(training_data[\u001b[39m0\u001b[39;49m][\u001b[39m0\u001b[39m], word_to_ix)\n\u001b[0;32m      3\u001b[0m \u001b[39mprint\u001b[39m(training_data[\u001b[39m0\u001b[39m][\u001b[39m0\u001b[39m])                          \n\u001b[0;32m      4\u001b[0m \u001b[39mprint\u001b[39m(inputs)\n",
      "\u001b[1;31mIndexError\u001b[0m: list index out of range"
     ]
    }
   ],
   "source": [
    "# Ejemplo de procesamiento de una oración\n",
    "inputs = prepare_sequence(training_data[0][0], word_to_ix)\n",
    "print(training_data[0][0])                          \n",
    "print(inputs)"
   ]
  },
  {
   "cell_type": "code",
   "execution_count": null,
   "metadata": {
    "colab": {},
    "colab_type": "code",
    "id": "JLmaT08_DfVm"
   },
   "outputs": [],
   "source": [
    "# Definición del modelo\n",
    "\n",
    "# El modelo es una clase que debe heredar de nn.Module\n",
    "class LSTMTagger(nn.Module):\n",
    "    \"\"\"\n",
    "    Clase para aplicar POST a oraciones en español. \n",
    "    \"\"\"\n",
    "    \n",
    "    # Incialización del modelo\n",
    "    def __init__(self, embedding_dim, hidden_dim, vocab_size, tagset_size):\n",
    "        \"\"\"\n",
    "        Inicialización de la clase.\n",
    "        Parámetros:\n",
    "           embedding_dim: dimesionalidad del vector de palabras. \n",
    "           hidden_dim: dimensión de la capa oculta de la red. \n",
    "           vocab_size: tamaño del vocabulario.  \n",
    "           tagset_size: número de clases.\n",
    "        \"\"\"\n",
    "        super(LSTMTagger, self).__init__()\n",
    "        self.hidden_dim = hidden_dim\n",
    "\n",
    "        # Primero se pasa la entrada a través de una capa Embedding. \n",
    "        # Esta capa construye una representación de los tokens de \n",
    "        # un texto donde las palabras que tienen el mismo significado \n",
    "        # tienen una representación similar.\n",
    "        \n",
    "        # Esta capa captura mejor el contexto y son espacialmente \n",
    "        # más eficientes que las representaciones vectoriales (one-hot vector).\n",
    "        # En Pytorch, se usa el módulo nn.Embedding para crear esta capa, \n",
    "        # que toma el tamaño del vocabulario y la longitud deseada del vector \n",
    "        # de palabras como entrada. Ejemplos en [3] y [4]\n",
    "        self.word_embeddings = nn.Embedding(vocab_size, embedding_dim)\n",
    "\n",
    "        # El LSTM toma word_embeddings como entrada y genera los estados ocultos\n",
    "        # con dimensionalidad hidden_dim.  \n",
    "        self.lstm = nn.LSTM(embedding_dim, hidden_dim)\n",
    "\n",
    "        # La capa lineal mapea el espacio de estado oculto \n",
    "        # al espacio de clases\n",
    "        self.hidden2tag = nn.Linear(hidden_dim, tagset_size)\n",
    "\n",
    "    def forward(self, sentence):\n",
    "        # Pasada hacia adelante de la red. \n",
    "        # Parámetros:\n",
    "        #    sentence: la oración a procesar\n",
    "        embeds = self.word_embeddings(sentence)\n",
    "        lstm_out, _ = self.lstm(embeds.view(len(sentence), 1, -1))\n",
    "        tag_space = self.hidden2tag(lstm_out.view(len(sentence), -1))\n",
    "\n",
    "        # Se utiliza softmax para devolver la probabilidad de cada etiqueta\n",
    "        tag_scores = F.log_softmax(tag_space, dim=1)\n",
    "        return tag_scores\n"
   ]
  },
  {
   "cell_type": "code",
   "execution_count": null,
   "metadata": {
    "colab": {},
    "colab_type": "code",
    "id": "mHhOk08h1qY2"
   },
   "outputs": [],
   "source": [
    "# Instanciación del modelo, definición de la función de pérdida y del optimizador   \n",
    "\n",
    "# Hiperparámetros de la red\n",
    "# Valores generalmente altos (32 o 64 dimensiones).\n",
    "EMBEDDING_DIM = 6\n",
    "HIDDEN_DIM = 6\n",
    "\n",
    "# Instancia del modelo\n",
    "model = LSTMTagger(EMBEDDING_DIM, HIDDEN_DIM, len(word_to_ix), len(tag_to_ix))\n",
    "\n",
    "# Función de pérdida: Negative Log Likelihood Loss (NLLL). \n",
    "# Generalmente utilizada en problemas de clasificacion con múltiples clases.\n",
    "loss_function = nn.NLLLoss()\n",
    "\n",
    "# Optimizador Stochastic Gradient Descent  \n",
    "optimizer = optim.SGD(model.parameters(), lr=0.1)\n"
   ]
  },
  {
   "cell_type": "code",
   "execution_count": null,
   "metadata": {
    "colab": {
     "base_uri": "https://localhost:8080/",
     "height": 173
    },
    "colab_type": "code",
    "id": "bRYCyKy-DfVu",
    "outputId": "5ccdff4d-dcca-4545-81bf-69a396ec4fae"
   },
   "outputs": [
    {
     "name": "stdout",
     "output_type": "stream",
     "text": [
      "['el', 'perro', 'come', 'manzana']\n",
      "tensor([[-1.4247, -0.7343, -1.2745],\n",
      "        [-1.4805, -0.6955, -1.2958],\n",
      "        [-1.4523, -0.7124, -1.2891],\n",
      "        [-1.4187, -0.7404, -1.2692]])\n",
      "Resultados luego del entrenamiento para la primera frase\n",
      "tensor([[-1.8107e-02, -4.0842e+00, -6.8054e+00],\n",
      "        [-7.9985e+00, -2.5249e-03, -6.1258e+00],\n",
      "        [-6.6842e+00, -5.4931e+00, -5.3800e-03],\n",
      "        [-8.5010e+00, -9.9927e-03, -4.6315e+00]])\n"
     ]
    }
   ],
   "source": [
    "# Entrenamiento del modelo \n",
    "\n",
    "# Valores antes de entrenar\n",
    "with torch.no_grad():\n",
    "    inputs = prepare_sequence(training_data[0][0], word_to_ix)\n",
    "    tag_scores = model(inputs)\n",
    "    \n",
    "    print(training_data[0][0])\n",
    "    \n",
    "    # Clasificación    \n",
    "    print(tag_scores)\n",
    "\n",
    "# Épocas de entrenamiento\n",
    "for epoch in range(200):  \n",
    "    for sentence, tags in training_data:\n",
    "        ## Paso 1. Pytorch acumula los gradientes.\n",
    "        # Es necesario limpiarlos\n",
    "        model.zero_grad()\n",
    "\n",
    "        # Paso 2. Se preparan las entradas, es decir, se convierten a\n",
    "        # tensores de índices de palabras.\n",
    "        sentence_in = prepare_sequence(sentence, word_to_ix)\n",
    "        targets = prepare_sequence(tags, tag_to_ix)\n",
    "\n",
    "        # Paso 3. Se genera la predicción (forward pass).\n",
    "        tag_scores = model(sentence_in)\n",
    "\n",
    "        # Paso 4. se calcula la pérdida, los gradientes, y se actualizan los \n",
    "        # parámetros por medio del optimizador.\n",
    "        loss = loss_function(tag_scores, targets)\n",
    "        loss.backward()\n",
    "        optimizer.step()\n",
    "\n",
    "# Despligue de la puntuación luego del entrenamiento\n",
    "with torch.no_grad():\n",
    "    inputs = prepare_sequence(training_data[0][0], word_to_ix)\n",
    "    tag_scores = model(inputs)\n",
    "   \n",
    "    print(\"Resultados luego del entrenamiento para la primera frase\")\n",
    "    # Las palabras en una oración se pueden etiquetar de tres formas.\n",
    "    # La primera oración tiene 4 palabras \"El perro come manzana\"\n",
    "    # por eso el tensor de salida tiene 4 elementos. \n",
    "    # Cada elemento es un vector de pesos que indica cuál etiqueta tiene más\n",
    "    # posibilidad de estar asociada a la palabra. Es decir hay que calcular \n",
    "    # la posición del valor máximo\n",
    "    print(tag_scores)"
   ]
  },
  {
   "cell_type": "code",
   "execution_count": null,
   "metadata": {
    "colab": {
     "base_uri": "https://localhost:8080/",
     "height": 332
    },
    "colab_type": "code",
    "id": "sPj6v4tsDfV2",
    "outputId": "6e5d5197-c82f-4d22-c74c-cb22c5b20af0"
   },
   "outputs": [
    {
     "name": "stdout",
     "output_type": "stream",
     "text": [
      "Clases\n",
      "{'DET': 0, 'NN': 1, 'V': 2}\n",
      "FRASE\n",
      "La frase original ['el', 'perro', 'juega']\n",
      "La frase original preprocesada tensor([ 0,  1, 11])\n",
      "Salida del modelo tensor([[-1.8107e-02, -4.0842e+00, -6.8054e+00],\n",
      "        [-7.9985e+00, -2.5249e-03, -6.1258e+00],\n",
      "        [-6.7163e+00, -3.6417e+00, -2.7801e-02]])\n",
      "Valores máximos e índices (tensor([-0.0181, -0.0025, -0.0278]), tensor([0, 1, 2]))\n"
     ]
    }
   ],
   "source": [
    "# Uso del modelo generado\n",
    "\n",
    "def test_examples(test_data):\n",
    "\n",
    "   with torch.no_grad():\n",
    "      inputs = prepare_sequence(test_data, word_to_ix)\n",
    "      tag_scores = model(inputs)\n",
    "    \n",
    " \n",
    "   print(\"FRASE\") \n",
    "   print(\"La frase original\", test_data)    \n",
    "   print(\"La frase original preprocesada\", inputs)\n",
    "   print(\"Salida del modelo\", tag_scores)\n",
    "   print(\"Valores máximos e índices\", max_values(tag_scores))    \n",
    "    \n",
    "print(\"Clases\")\n",
    "print(tag_to_ix)\n",
    "\n",
    "#Frase 1\n",
    "# Las palabras en una oración se pueden etiquetar de tres formas.\n",
    "# La primera oración tiene 3 palabras \"El perro juega\"\n",
    "# por eso el tensor de salida tiene 3 elementos. \n",
    "# Cada elemento es un vector de probabilidad de estar asociada a una clase. \n",
    "# Es decir hay que calcular la posición del valor máximo. \n",
    "#   Ejemplo 1: \"El perro juega\" [\"DET\", \"NN\", \"V\"]\n",
    "# Ejemplo: salida 0, 1, 2 con {\"DET\": 0, \"NN\": 1, \"V\": 2} => DET, NN, V \n",
    "test_examples(test_data[0][0])\n"
   ]
  },
  {
   "cell_type": "code",
   "execution_count": null,
   "metadata": {},
   "outputs": [
    {
     "name": "stdout",
     "output_type": "stream",
     "text": [
      "FRASE\n",
      "La frase original ['el', 'estudiante', 'realiza', 'el', 'examen']\n",
      "La frase original preprocesada tensor([ 0, 29, 30,  0, 31])\n",
      "Salida del modelo tensor([[-0.0181, -4.0842, -6.8054],\n",
      "        [-3.9659, -0.9035, -0.5518],\n",
      "        [-4.1042, -0.2443, -1.6082],\n",
      "        [-0.0160, -4.3174, -5.9653],\n",
      "        [-5.3653, -2.2878, -0.1122]])\n",
      "Valores máximos e índices (tensor([-0.0181, -0.5518, -0.2443, -0.0160, -0.1122]), tensor([0, 2, 1, 0, 2]))\n",
      "valor de las etiquetas {'DET': 0, 'NN': 1, 'V': 2}\n"
     ]
    }
   ],
   "source": [
    "#Frase 2\n",
    "test_examples(test_data[3][0])\n",
    "\n",
    "print(\"valor de las etiquetas\", tag_to_ix)"
   ]
  },
  {
   "cell_type": "code",
   "execution_count": null,
   "metadata": {},
   "outputs": [
    {
     "name": "stdout",
     "output_type": "stream",
     "text": [
      "FRASE\n",
      "La frase original ['maria', 'come', 'pastel']\n",
      "La frase original preprocesada tensor([13,  2, 28])\n",
      "Salida del modelo tensor([[-9.3772e+00, -8.6755e-03, -4.7614e+00],\n",
      "        [-6.5641e+00, -5.1750e+00, -7.0912e-03],\n",
      "        [-3.0297e-02, -3.9470e+00, -4.5535e+00]])\n",
      "Valores máximos e índices (tensor([-0.0087, -0.0071, -0.0303]), tensor([1, 2, 0]))\n",
      "valor de las etiquetas {'DET': 0, 'NN': 1, 'V': 2}\n"
     ]
    }
   ],
   "source": [
    "# Otra prueba\n",
    "test_examples(test_data[2][0])\n",
    "print(\"valor de las etiquetas\", tag_to_ix)"
   ]
  },
  {
   "attachments": {},
   "cell_type": "markdown",
   "metadata": {
    "colab_type": "text",
    "id": "wZjYZ9vfDfV9"
   },
   "source": [
    "# Referencias \n",
    "\n",
    "[1] Guthrie, R. (2017). Tutorial. Sequence Models and Long-Short Term Memory Networks. Recuperado de https://pytorch.org/tutorials/beginner/nlp/sequence_models_tutorial.html\n",
    "\n",
    "[2] LeCun,Y., Bengio, Y.,  & Hinton, G. (2015). Deep learning. Nature, 521(7553):436.\n",
    "\n",
    "[3] Brownlee, J. (2017). What Are Word Embeddings for Text?. Recuperado de https://machinelearningmastery.com/what-are-word-embeddings/\n",
    "\n",
    "[4] Bishop, C (2006). Pattern Recognition and Machine Learning. Springer."
   ]
  },
  {
   "cell_type": "code",
   "execution_count": null,
   "metadata": {},
   "outputs": [],
   "source": []
  }
 ],
 "metadata": {
  "colab": {
   "name": "16_POST_with_LSTM_(Esp).ipynb",
   "provenance": []
  },
  "kernelspec": {
   "display_name": "Python 3 (ipykernel)",
   "language": "python",
   "name": "python3"
  },
  "language_info": {
   "codemirror_mode": {
    "name": "ipython",
    "version": 3
   },
   "file_extension": ".py",
   "mimetype": "text/x-python",
   "name": "python",
   "nbconvert_exporter": "python",
   "pygments_lexer": "ipython3",
   "version": "3.10.11"
  }
 },
 "nbformat": 4,
 "nbformat_minor": 1
}
